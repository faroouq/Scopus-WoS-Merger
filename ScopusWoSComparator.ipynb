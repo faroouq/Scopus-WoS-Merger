{
 "cells": [
  {
   "cell_type": "markdown",
   "metadata": {},
   "source": [
    "# Scopus and Web of Science Comparator"
   ]
  },
  {
   "cell_type": "markdown",
   "metadata": {},
   "source": [
    "## Introduction"
   ]
  },
  {
   "cell_type": "markdown",
   "metadata": {},
   "source": [
    "This code takes a co-located file of exported search results from Scopus and Web of Science (WoS). The files should be named <i><b>\"scopus_title_keyword_abstract_tab.csv\"</b></i> and <i><b>\"wos_full_record.csv\"</b></i>, respectively.\n",
    "\n",
    "Then the code merges these files, while removing useless information like citation of a proceeding, counting the papers that appear in one list but not the other, and counting those that appear in both.\n",
    "\n",
    "Finally, the application saves a combined list of peprs (without duplication) in a co-located file called <i><b>\"papersToRead.txt</b></i> and the results that are presumed to not be scientific papers as saved in <i><b>\"bad.txt\"</b></i>"
   ]
  },
  {
   "cell_type": "markdown",
   "metadata": {},
   "source": [
    "## Code"
   ]
  },
  {
   "cell_type": "code",
   "execution_count": 11,
   "metadata": {},
   "outputs": [
    {
     "name": "stdout",
     "output_type": "stream",
     "text": [
      "Web of Science count:  105\n",
      "Web of Science stored:  105\n",
      "Web of Science bad are:  0\n",
      "Scopus count:  169\n",
      "Scopus bad are:  29\n",
      "Scopus stored:  70\n",
      "Common Title are:  70\n",
      "Uncommon are:  70\n",
      "Paper to read are:  175\n",
      "Duplicates:  0\n"
     ]
    }
   ],
   "source": [
    "wosFile = open(\"./wos_full_record.csv\", \"r\")\n",
    "scopusFile= open(\"./scopus_title_keyword_abstract_tab.csv\", \"r\")\n",
    "combine = open(\"papersToRead.txt\", \"w\")\n",
    "bad=open(\"bad.txt\",\"w\")\n",
    "\n",
    "wosTitle=[]\n",
    "scopusTitle=[]\n",
    "\n",
    "record=wosFile.readline()      #Ignore the heading\n",
    "record=wosFile.readline()\n",
    "\n",
    "toReadCount=0\n",
    "nonWosCount=0\n",
    "wosCount=0\n",
    "wosStored=0\n",
    "while(record):\n",
    "    wosCount+=1\n",
    "    splittedRecord=record.split('\\t')\n",
    "    wosTitle.append(splittedRecord[8].lower().strip())\n",
    "    if(\"international\" in wosTitle[wosCount-1] or \"proceedings\" in wosTitle[wosCount-1]):\n",
    "        nonWosCount+=1\n",
    "        bad.write(wosTitle[wosCount-1])\n",
    "        bad.write(\"\\n\")\n",
    "    else:\n",
    "        wosStored+=1\n",
    "        toReadCount+=1\n",
    "        combine.write(wosTitle[wosCount-1])\n",
    "        combine.write(\"\\n\")\n",
    "    record=wosFile.readline()\n",
    "\n",
    "wosFile.close()\n",
    "print(\"Web of Science count: \", wosCount)\n",
    "print(\"Web of Science stored: \", wosStored)\n",
    "print(\"Web of Science bad are: \", nonWosCount)\n",
    "\n",
    "\n",
    "\n",
    "\n",
    "record=scopusFile.readline()   #Removing the heading\n",
    "record=scopusFile.readline()\n",
    "\n",
    "nonScopusCount=0\n",
    "scopusCount=0\n",
    "scopusStored=0\n",
    "scopusGood=0\n",
    "while(record):\n",
    "    scopusCount+=1\n",
    "    splittedRecord=record.strip().split('\\t')    \n",
    "    if(\"international\" in (splittedRecord[0].lower().strip()) or \"proceedings\" in (splittedRecord[0].lower().strip())):\n",
    "        nonScopusCount+=1\n",
    "        bad.write(splittedRecord[0].lower().strip())\n",
    "        bad.write(\"\\n\")\n",
    "    else:\n",
    "        scopusGood+=1\n",
    "        scopusTitle.append(splittedRecord[0].lower().strip())\n",
    "        \n",
    "    record=scopusFile.readline()\n",
    "\n",
    "scopusFile.close()\n",
    "bad.close()\n",
    "\n",
    "print(\"Scopus count: \", scopusCount)\n",
    "print(\"Scopus bad are: \", nonScopusCount)\n",
    "\n",
    "\n",
    "\n",
    "common=0\n",
    "uncommon=0\n",
    "commonTitle=[]\n",
    "uncommonTitle=[]\n",
    "found=0\n",
    "for i in range(0, scopusGood):\n",
    "    for j in range(0, wosCount):\n",
    "        if(wosTitle[j]==scopusTitle[i]):\n",
    "            common+=1\n",
    "            commonTitle.append(scopusTitle[i])\n",
    "            found=1\n",
    "            break\n",
    "    if(found==0):\n",
    "        scopusStored+=1\n",
    "        toReadCount+=1\n",
    "        uncommonTitle.append(scopusTitle[i])\n",
    "        combine.write(uncommonTitle[uncommon])\n",
    "        combine.write(\"\\n\")\n",
    "        uncommon+=1\n",
    "    else:\n",
    "        found=0\n",
    "        \n",
    "print(\"Scopus stored: \", scopusStored)            \n",
    "print(\"Common Title are: \",common)\n",
    "print(\"Uncommon are: \", uncommon)\n",
    "print(\"Paper to read are: \", toReadCount)\n",
    "\n",
    "\n",
    "\n",
    "combine.close()\n",
    "combine = open(\"papersToRead.txt\", \"r\")\n",
    "toReads = combine.readlines()\n",
    "toReadCount=len(toReads)\n",
    "\n",
    "duplicateCount=0\n",
    "for i in range(0 , toReadCount):\n",
    "    for j in range(i+1, toReadCount):\n",
    "        if(toReads[i]==toReads[j]):\n",
    "            duplicateCount+=1\n",
    "            \n",
    "print(\"Duplicates: \", duplicateCount)\n",
    "combine.close()"
   ]
  }
 ],
 "metadata": {
  "kernelspec": {
   "display_name": "Python 3",
   "language": "python",
   "name": "python3"
  },
  "language_info": {
   "codemirror_mode": {
    "name": "ipython",
    "version": 3
   },
   "file_extension": ".py",
   "mimetype": "text/x-python",
   "name": "python",
   "nbconvert_exporter": "python",
   "pygments_lexer": "ipython3",
   "version": "3.8.3"
  }
 },
 "nbformat": 4,
 "nbformat_minor": 4
}
