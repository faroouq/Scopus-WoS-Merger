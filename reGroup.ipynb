{
 "cells": [
  {
   "cell_type": "markdown",
   "metadata": {},
   "source": [
    "# Regroup"
   ]
  },
  {
   "cell_type": "markdown",
   "metadata": {},
   "source": [
    "## Input "
   ]
  },
  {
   "cell_type": "markdown",
   "metadata": {},
   "source": [
    "Input the list of keywords in the cluster of interest"
   ]
  },
  {
   "cell_type": "code",
   "execution_count": 1,
   "metadata": {},
   "outputs": [],
   "source": [
    "cluster=['decision trees', 'markov model', 'ann', 'machine learning', 'deep learning', 'federated learning', 'dos', 'svm', 'ensemble learning']"
   ]
  },
  {
   "cell_type": "markdown",
   "metadata": {},
   "source": [
    "## Process"
   ]
  },
  {
   "cell_type": "markdown",
   "metadata": {},
   "source": [
    "Find the papers with the keywords"
   ]
  },
  {
   "cell_type": "code",
   "execution_count": 2,
   "metadata": {},
   "outputs": [],
   "source": [
    "inFile = open('./idsPapersDataset.csv', 'r')         #Lets read the files\n",
    "\n",
    "paper=[]\n",
    "classes=[]\n",
    "\n",
    "\n",
    "myLine = inFile.readline();                          #foe each line lets see what is needed\n",
    "while(myLine):\n",
    "    temp=[]                                          #classes a paper belongs\n",
    "    for i in cluster:\n",
    "        if i in myLine:\n",
    "            temp.append(i)\n",
    "            \n",
    "    record = myLine.split(\"\\t\");\n",
    "    paper.append(record[0]);\n",
    "    classes.append(temp);\n",
    "    \n",
    "    myLine = inFile.readline()\n",
    "    \n",
    "    \n",
    "inFile.close()"
   ]
  },
  {
   "cell_type": "markdown",
   "metadata": {},
   "source": [
    "## Output"
   ]
  },
  {
   "cell_type": "markdown",
   "metadata": {},
   "source": [
    "Save the results as output"
   ]
  },
  {
   "cell_type": "code",
   "execution_count": 4,
   "metadata": {},
   "outputs": [],
   "source": [
    "outFile = open('./groups.csv', 'w')\n",
    "\n",
    "for j in range(0,len(paper)):\n",
    "    outFile.write(paper[j]+'\\t')\n",
    "    outFile.write(str(len(classes[j]))+'\\t')\n",
    "    for k in range(0, len(classes[j])):\n",
    "        outFile.write(classes[j][k]+'\\t')\n",
    "    outFile.write('\\n')\n",
    "    \n",
    "outFile.close()"
   ]
  }
 ],
 "metadata": {
  "kernelspec": {
   "display_name": "Python 3",
   "language": "python",
   "name": "python3"
  },
  "language_info": {
   "codemirror_mode": {
    "name": "ipython",
    "version": 3
   },
   "file_extension": ".py",
   "mimetype": "text/x-python",
   "name": "python",
   "nbconvert_exporter": "python",
   "pygments_lexer": "ipython3",
   "version": "3.8.3"
  }
 },
 "nbformat": 4,
 "nbformat_minor": 4
}
